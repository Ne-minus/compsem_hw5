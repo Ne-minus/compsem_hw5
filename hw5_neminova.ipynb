{
 "cells": [
  {
   "cell_type": "code",
   "execution_count": 26,
   "metadata": {
    "colab": {
     "base_uri": "https://localhost:8080/",
     "height": 623
    },
    "id": "eJvb8EaTgsNG",
    "outputId": "70ccb7fa-5e04-4734-a93f-174ef977c5b1",
    "scrolled": true
   },
   "outputs": [
    {
     "name": "stdout",
     "output_type": "stream",
     "text": [
      "======================================================================\n",
      "Even priors and all-0 message costs\n",
      "\n"
     ]
    },
    {
     "data": {
      "text/html": [
       "<div>\n",
       "<style scoped>\n",
       "    .dataframe tbody tr th:only-of-type {\n",
       "        vertical-align: middle;\n",
       "    }\n",
       "\n",
       "    .dataframe tbody tr th {\n",
       "        vertical-align: top;\n",
       "    }\n",
       "\n",
       "    .dataframe thead th {\n",
       "        text-align: right;\n",
       "    }\n",
       "</style>\n",
       "<table border=\"1\" class=\"dataframe\">\n",
       "  <thead>\n",
       "    <tr style=\"text-align: right;\">\n",
       "      <th></th>\n",
       "      <th>r1</th>\n",
       "      <th>r2</th>\n",
       "      <th>r3</th>\n",
       "      <th>costs</th>\n",
       "    </tr>\n",
       "  </thead>\n",
       "  <tbody>\n",
       "    <tr>\n",
       "      <th>hat</th>\n",
       "      <td>1.000000</td>\n",
       "      <td>1.0</td>\n",
       "      <td>0.0</td>\n",
       "      <td>0.0</td>\n",
       "    </tr>\n",
       "    <tr>\n",
       "      <th>glasses</th>\n",
       "      <td>0.000000</td>\n",
       "      <td>0.0</td>\n",
       "      <td>1.0</td>\n",
       "      <td>0.0</td>\n",
       "    </tr>\n",
       "    <tr>\n",
       "      <th>moustache</th>\n",
       "      <td>0.000000</td>\n",
       "      <td>1.0</td>\n",
       "      <td>0.0</td>\n",
       "      <td>0.0</td>\n",
       "    </tr>\n",
       "    <tr>\n",
       "      <th>prior</th>\n",
       "      <td>0.333333</td>\n",
       "      <td>0.333333</td>\n",
       "      <td>0.333333</td>\n",
       "      <td></td>\n",
       "    </tr>\n",
       "    <tr>\n",
       "      <th>alpha</th>\n",
       "      <td>1.000000</td>\n",
       "      <td></td>\n",
       "      <td></td>\n",
       "      <td></td>\n",
       "    </tr>\n",
       "  </tbody>\n",
       "</table>\n",
       "</div>"
      ],
      "text/plain": [
       "                 r1        r2        r3 costs\n",
       "hat        1.000000       1.0       0.0   0.0\n",
       "glasses    0.000000       0.0       1.0   0.0\n",
       "moustache  0.000000       1.0       0.0   0.0\n",
       "prior      0.333333  0.333333  0.333333      \n",
       "alpha      1.000000                          "
      ]
     },
     "metadata": {},
     "output_type": "display_data"
    },
    {
     "name": "stdout",
     "output_type": "stream",
     "text": [
      "\n",
      "Literal listener\n"
     ]
    },
    {
     "data": {
      "text/html": [
       "<div>\n",
       "<style scoped>\n",
       "    .dataframe tbody tr th:only-of-type {\n",
       "        vertical-align: middle;\n",
       "    }\n",
       "\n",
       "    .dataframe tbody tr th {\n",
       "        vertical-align: top;\n",
       "    }\n",
       "\n",
       "    .dataframe thead th {\n",
       "        text-align: right;\n",
       "    }\n",
       "</style>\n",
       "<table border=\"1\" class=\"dataframe\">\n",
       "  <thead>\n",
       "    <tr style=\"text-align: right;\">\n",
       "      <th></th>\n",
       "      <th>r1</th>\n",
       "      <th>r2</th>\n",
       "      <th>r3</th>\n",
       "    </tr>\n",
       "  </thead>\n",
       "  <tbody>\n",
       "    <tr>\n",
       "      <th>hat</th>\n",
       "      <td>0.5</td>\n",
       "      <td>0.5</td>\n",
       "      <td>0.0</td>\n",
       "    </tr>\n",
       "    <tr>\n",
       "      <th>glasses</th>\n",
       "      <td>0.0</td>\n",
       "      <td>0.0</td>\n",
       "      <td>1.0</td>\n",
       "    </tr>\n",
       "    <tr>\n",
       "      <th>moustache</th>\n",
       "      <td>0.0</td>\n",
       "      <td>1.0</td>\n",
       "      <td>0.0</td>\n",
       "    </tr>\n",
       "  </tbody>\n",
       "</table>\n",
       "</div>"
      ],
      "text/plain": [
       "            r1   r2   r3\n",
       "hat        0.5  0.5  0.0\n",
       "glasses    0.0  0.0  1.0\n",
       "moustache  0.0  1.0  0.0"
      ]
     },
     "metadata": {},
     "output_type": "display_data"
    },
    {
     "name": "stdout",
     "output_type": "stream",
     "text": [
      "\n",
      "Pragmatic speaker\n"
     ]
    },
    {
     "data": {
      "text/html": [
       "<div>\n",
       "<style scoped>\n",
       "    .dataframe tbody tr th:only-of-type {\n",
       "        vertical-align: middle;\n",
       "    }\n",
       "\n",
       "    .dataframe tbody tr th {\n",
       "        vertical-align: top;\n",
       "    }\n",
       "\n",
       "    .dataframe thead th {\n",
       "        text-align: right;\n",
       "    }\n",
       "</style>\n",
       "<table border=\"1\" class=\"dataframe\">\n",
       "  <thead>\n",
       "    <tr style=\"text-align: right;\">\n",
       "      <th></th>\n",
       "      <th>hat</th>\n",
       "      <th>glasses</th>\n",
       "      <th>moustache</th>\n",
       "    </tr>\n",
       "  </thead>\n",
       "  <tbody>\n",
       "    <tr>\n",
       "      <th>r1</th>\n",
       "      <td>1.000000</td>\n",
       "      <td>0.0</td>\n",
       "      <td>0.000000</td>\n",
       "    </tr>\n",
       "    <tr>\n",
       "      <th>r2</th>\n",
       "      <td>0.333333</td>\n",
       "      <td>0.0</td>\n",
       "      <td>0.666667</td>\n",
       "    </tr>\n",
       "    <tr>\n",
       "      <th>r3</th>\n",
       "      <td>0.000000</td>\n",
       "      <td>1.0</td>\n",
       "      <td>0.000000</td>\n",
       "    </tr>\n",
       "  </tbody>\n",
       "</table>\n",
       "</div>"
      ],
      "text/plain": [
       "         hat  glasses  moustache\n",
       "r1  1.000000      0.0   0.000000\n",
       "r2  0.333333      0.0   0.666667\n",
       "r3  0.000000      1.0   0.000000"
      ]
     },
     "metadata": {},
     "output_type": "display_data"
    },
    {
     "name": "stdout",
     "output_type": "stream",
     "text": [
      "\n",
      "Pragmatic listener\n"
     ]
    },
    {
     "data": {
      "text/html": [
       "<div>\n",
       "<style scoped>\n",
       "    .dataframe tbody tr th:only-of-type {\n",
       "        vertical-align: middle;\n",
       "    }\n",
       "\n",
       "    .dataframe tbody tr th {\n",
       "        vertical-align: top;\n",
       "    }\n",
       "\n",
       "    .dataframe thead th {\n",
       "        text-align: right;\n",
       "    }\n",
       "</style>\n",
       "<table border=\"1\" class=\"dataframe\">\n",
       "  <thead>\n",
       "    <tr style=\"text-align: right;\">\n",
       "      <th></th>\n",
       "      <th>r1</th>\n",
       "      <th>r2</th>\n",
       "      <th>r3</th>\n",
       "    </tr>\n",
       "  </thead>\n",
       "  <tbody>\n",
       "    <tr>\n",
       "      <th>hat</th>\n",
       "      <td>0.75</td>\n",
       "      <td>0.25</td>\n",
       "      <td>0.0</td>\n",
       "    </tr>\n",
       "    <tr>\n",
       "      <th>glasses</th>\n",
       "      <td>0.00</td>\n",
       "      <td>0.00</td>\n",
       "      <td>1.0</td>\n",
       "    </tr>\n",
       "    <tr>\n",
       "      <th>moustache</th>\n",
       "      <td>0.00</td>\n",
       "      <td>1.00</td>\n",
       "      <td>0.0</td>\n",
       "    </tr>\n",
       "  </tbody>\n",
       "</table>\n",
       "</div>"
      ],
      "text/plain": [
       "             r1    r2   r3\n",
       "hat        0.75  0.25  0.0\n",
       "glasses    0.00  0.00  1.0\n",
       "moustache  0.00  1.00  0.0"
      ]
     },
     "metadata": {},
     "output_type": "display_data"
    }
   ],
   "source": [
    "import numpy as np\n",
    "import pandas as pd\n",
    "\n",
    "\n",
    "class RSA:\n",
    "    \"\"\"Implementation of the core Rational Speech Acts model.\n",
    "\n",
    "    Parameters\n",
    "    ----------\n",
    "    lexicon : `np.array` or `pd.DataFrame`\n",
    "        Messages along the rows, states along the columns.\n",
    "    prior : array-like\n",
    "        Same length as the number of colums in `lexicon`.\n",
    "    costs : array-like\n",
    "        Same length as the number of rows in `lexicon`.\n",
    "    alpha : float\n",
    "        Default: 1.0\n",
    "    \"\"\"\n",
    "    def __init__(self, lexicon, prior, costs, alpha=1.0):\n",
    "        self.lexicon = lexicon\n",
    "        self.prior = np.array(prior)\n",
    "        self.costs = np.array(costs)\n",
    "        self.alpha = alpha\n",
    "\n",
    "    def literal_listener(self):\n",
    "        \"\"\"Literal listener predictions, which corresponds intuitively\n",
    "        to truth conditions with priors.\n",
    "\n",
    "        Returns\n",
    "        -------\n",
    "        np.array or pd.DataFrame, depending on `self.lexicon`.\n",
    "        The rows correspond to messages, the columns to states.\n",
    "\n",
    "        \"\"\"\n",
    "        names = False\n",
    "        # check whether it is pd.DataFrame\n",
    "        lexicon = self.lexicon\n",
    "        if isinstance(self.lexicon, pd.DataFrame):\n",
    "            cols = self.lexicon.columns\n",
    "            index = self.lexicon.index\n",
    "            lexicon = self.lexicon.to_numpy()\n",
    "            names = True\n",
    "            \n",
    "        literal = np.empty(lexicon.shape)\n",
    "        for row in range(len(lexicon)):\n",
    "            row_sum = sum(lexicon[row]*self.prior)\n",
    "            row_itself = lexicon[row]\n",
    "            for col in range(len(row_itself)):\n",
    "                literal[row][col] = (row_itself[col]*self.prior[col]) / row_sum     \n",
    "        if names:\n",
    "            return pd.DataFrame(literal, columns = cols, index = index)\n",
    "        return literal\n",
    "\n",
    "    def speaker(self):\n",
    "        \"\"\"Returns a matrix of pragmatic speaker predictions.\n",
    "\n",
    "        Returns\n",
    "        -------\n",
    "        np.array or pd.DataFrame, depending on `self.lexicon`.\n",
    "        The rows correspond to states, the columns to states.\n",
    "        \"\"\"\n",
    "        lit = self.literal_listener().T\n",
    "        utilities = self.alpha * (safelog(lit) + self.costs)\n",
    "        return rownorm(np.exp(utilities))\n",
    "\n",
    "    def listener(self):\n",
    "        \"\"\"Returns a matrix of pragmatic listener predictions.\n",
    "\n",
    "        Returns\n",
    "        -------\n",
    "        np.array or pd.DataFrame, depending on `self.lexicon`.\n",
    "        The rows correspond to messages, the columns to states.\n",
    "        \"\"\"\n",
    "        sp = rownorm(self.speaker().T * self.prior)\n",
    "        return sp\n",
    "\n",
    "\n",
    "def rownorm(mat):\n",
    "    \"\"\"Row normalization of np.array or pd.DataFrame\"\"\"\n",
    "    return (mat.T / mat.sum(axis=1)).T\n",
    "\n",
    "\n",
    "def safelog(vals):\n",
    "    \"\"\"Silence distracting warnings about log(0).\"\"\"\n",
    "    with np.errstate(divide='ignore'):\n",
    "        return np.log(vals)\n",
    "\n",
    "\n",
    "if __name__ == '__main__':\n",
    "    \"\"\"Example from the class slides\"\"\"\n",
    "\n",
    "    from IPython.display import display\n",
    "\n",
    "\n",
    "    def display_reference_game(mod):\n",
    "        d = mod.lexicon.copy()\n",
    "        d['costs'] = mod.costs\n",
    "        d.loc['prior'] = list(mod.prior) + [\"\"]\n",
    "        d.loc['alpha'] = [mod.alpha] + [\" \"] * mod.lexicon.shape[1]\n",
    "        display(d)\n",
    "\n",
    "\n",
    "    # Core lexicon:\n",
    "    msgs = ['hat', 'glasses', 'moustache']\n",
    "    states = ['r1', 'r2', 'r3']\n",
    "    lex = pd.DataFrame([\n",
    "        [1.0, 1.0, 0.0],\n",
    "        [0.0, 0.0, 1.0],\n",
    "        [0.0, 1.0, 0.0]], index=msgs, columns=states)\n",
    "\n",
    "    print(\"=\"*70 + \"\\nEven priors and all-0 message costs\\n\")\n",
    "    basic_mod = RSA(lexicon=lex, prior=[1/3, 1/3, 1/3], costs=[0.0, 0.0, 0.0])\n",
    "\n",
    "    display_reference_game(basic_mod)\n",
    "\n",
    "    print(\"\\nLiteral listener\")\n",
    "    display(basic_mod.literal_listener())\n",
    "\n",
    "    print(\"\\nPragmatic speaker\")\n",
    "    display(basic_mod.speaker())\n",
    "\n",
    "    print(\"\\nPragmatic listener\")\n",
    "    display(basic_mod.listener())\n"
   ]
  },
  {
   "cell_type": "markdown",
   "metadata": {},
   "source": [
    "Здесь можно вывести импликатуру (**шляпа --> не усы**), так как здесь одно и то же выражение для разных ситуаций имеет разную вероятность. (То есть прагрматический слушатель с большей вероятностью считает, что объект будет описан словом \"шляпа\", если на нем будет надета только шляпа, и словом \"усы\", если у объекта будут усы (вне зависимости от наличия шляпы))"
   ]
  },
  {
   "cell_type": "code",
   "execution_count": 31,
   "metadata": {
    "scrolled": true
   },
   "outputs": [
    {
     "name": "stdout",
     "output_type": "stream",
     "text": [
      "\n",
      "Pragmatic listener\n"
     ]
    },
    {
     "data": {
      "text/html": [
       "<div>\n",
       "<style scoped>\n",
       "    .dataframe tbody tr th:only-of-type {\n",
       "        vertical-align: middle;\n",
       "    }\n",
       "\n",
       "    .dataframe tbody tr th {\n",
       "        vertical-align: top;\n",
       "    }\n",
       "\n",
       "    .dataframe thead th {\n",
       "        text-align: right;\n",
       "    }\n",
       "</style>\n",
       "<table border=\"1\" class=\"dataframe\">\n",
       "  <thead>\n",
       "    <tr style=\"text-align: right;\">\n",
       "      <th></th>\n",
       "      <th>r1</th>\n",
       "      <th>r2</th>\n",
       "      <th>r3</th>\n",
       "    </tr>\n",
       "  </thead>\n",
       "  <tbody>\n",
       "    <tr>\n",
       "      <th>hat</th>\n",
       "      <td>0.330579</td>\n",
       "      <td>0.669421</td>\n",
       "      <td>0.0</td>\n",
       "    </tr>\n",
       "    <tr>\n",
       "      <th>glasses</th>\n",
       "      <td>0.000000</td>\n",
       "      <td>0.000000</td>\n",
       "      <td>1.0</td>\n",
       "    </tr>\n",
       "    <tr>\n",
       "      <th>moustache</th>\n",
       "      <td>0.000000</td>\n",
       "      <td>1.000000</td>\n",
       "      <td>0.0</td>\n",
       "    </tr>\n",
       "  </tbody>\n",
       "</table>\n",
       "</div>"
      ],
      "text/plain": [
       "                 r1        r2   r3\n",
       "hat        0.330579  0.669421  0.0\n",
       "glasses    0.000000  0.000000  1.0\n",
       "moustache  0.000000  1.000000  0.0"
      ]
     },
     "metadata": {},
     "output_type": "display_data"
    }
   ],
   "source": [
    "    msgs = ['hat', 'glasses', 'moustache']\n",
    "    states = ['r1', 'r2', 'r3']\n",
    "    lex = pd.DataFrame([\n",
    "        [1.0, 1.0, 0.0],\n",
    "        [0.0, 0.0, 1.0],\n",
    "        [0.0, 1.0, 0.0]], index=msgs, columns=states)\n",
    "\n",
    "#     print(\"=\"*70 + \"\\nEven priors and all-0 message costs\\n\")\n",
    "    basic_mod_2 = RSA(lexicon=lex, prior=[0.1,0.45, 0.45], costs=[0.0, 0.0, 0.0])\n",
    "    print(\"\\nPragmatic listener\")\n",
    "    display(basic_mod_2.listener())"
   ]
  },
  {
   "cell_type": "markdown",
   "metadata": {},
   "source": [
    "Здесь возможность выразить скалярную импликатуру также остается, но она менее однозначна. Для r2 прагматический слушатель точно уверен, что говорящий опишет r2 через усы, но при этом он еще довольно уверен, что слушающий может описать его через шляпу, таким образом прагматическому слушателю будет сложнее сделать выбор."
   ]
  },
  {
   "cell_type": "markdown",
   "metadata": {},
   "source": [
    "# 1 игра\n",
    "импликатуры:   \n",
    "1) очки -> не шляпа \n",
    "2) усы ---> не очки  "
   ]
  },
  {
   "cell_type": "code",
   "execution_count": 65,
   "metadata": {},
   "outputs": [
    {
     "name": "stdout",
     "output_type": "stream",
     "text": [
      "\n",
      "Pragmatic listener\n"
     ]
    },
    {
     "data": {
      "text/html": [
       "<div>\n",
       "<style scoped>\n",
       "    .dataframe tbody tr th:only-of-type {\n",
       "        vertical-align: middle;\n",
       "    }\n",
       "\n",
       "    .dataframe tbody tr th {\n",
       "        vertical-align: top;\n",
       "    }\n",
       "\n",
       "    .dataframe thead th {\n",
       "        text-align: right;\n",
       "    }\n",
       "</style>\n",
       "<table border=\"1\" class=\"dataframe\">\n",
       "  <thead>\n",
       "    <tr style=\"text-align: right;\">\n",
       "      <th></th>\n",
       "      <th>r1</th>\n",
       "      <th>r2</th>\n",
       "      <th>r3</th>\n",
       "    </tr>\n",
       "  </thead>\n",
       "  <tbody>\n",
       "    <tr>\n",
       "      <th>hat</th>\n",
       "      <td>0.000000</td>\n",
       "      <td>1.0</td>\n",
       "      <td>0.000000</td>\n",
       "    </tr>\n",
       "    <tr>\n",
       "      <th>glasses</th>\n",
       "      <td>0.600000</td>\n",
       "      <td>0.4</td>\n",
       "      <td>0.000000</td>\n",
       "    </tr>\n",
       "    <tr>\n",
       "      <th>moustache</th>\n",
       "      <td>0.333333</td>\n",
       "      <td>0.0</td>\n",
       "      <td>0.666667</td>\n",
       "    </tr>\n",
       "  </tbody>\n",
       "</table>\n",
       "</div>"
      ],
      "text/plain": [
       "                 r1   r2        r3\n",
       "hat        0.000000  1.0  0.000000\n",
       "glasses    0.600000  0.4  0.000000\n",
       "moustache  0.333333  0.0  0.666667"
      ]
     },
     "metadata": {},
     "output_type": "display_data"
    }
   ],
   "source": [
    "msgs = ['hat', 'glasses', 'moustache']\n",
    "states = ['r1', 'r2', 'r3']\n",
    "lex = pd.DataFrame([\n",
    "    [0.0, 1.0, 0.0],\n",
    "    [1.0, 1.0, 0.0],\n",
    "    [1.0, 0.0, 1.0]], index=msgs, columns=states)\n",
    "\n",
    "#     print(\"=\"*70 + \"\\nEven priors and all-0 message costs\\n\")\n",
    "basic_mod_3 = RSA(lexicon=lex, prior=[1/3,1/3, 1/3], costs=[0.0, 0.0, 0.0])\n",
    "print(\"\\nPragmatic listener\")\n",
    "display(basic_mod_3.listener())"
   ]
  },
  {
   "cell_type": "markdown",
   "metadata": {},
   "source": [
    "# 2 игра\n",
    "импликатуры:   \n",
    "1) шляпа ---> не усы  \n",
    "2) усы ---> не очки  \n",
    "Рассмотрим на ее примере изменение параметров"
   ]
  },
  {
   "cell_type": "code",
   "execution_count": 53,
   "metadata": {
    "scrolled": true
   },
   "outputs": [
    {
     "name": "stdout",
     "output_type": "stream",
     "text": [
      "\n",
      "Pragmatic listener\n"
     ]
    },
    {
     "data": {
      "text/html": [
       "<div>\n",
       "<style scoped>\n",
       "    .dataframe tbody tr th:only-of-type {\n",
       "        vertical-align: middle;\n",
       "    }\n",
       "\n",
       "    .dataframe tbody tr th {\n",
       "        vertical-align: top;\n",
       "    }\n",
       "\n",
       "    .dataframe thead th {\n",
       "        text-align: right;\n",
       "    }\n",
       "</style>\n",
       "<table border=\"1\" class=\"dataframe\">\n",
       "  <thead>\n",
       "    <tr style=\"text-align: right;\">\n",
       "      <th></th>\n",
       "      <th>r1</th>\n",
       "      <th>r2</th>\n",
       "      <th>r3</th>\n",
       "    </tr>\n",
       "  </thead>\n",
       "  <tbody>\n",
       "    <tr>\n",
       "      <th>hat</th>\n",
       "      <td>0.666667</td>\n",
       "      <td>0.333333</td>\n",
       "      <td>0.0</td>\n",
       "    </tr>\n",
       "    <tr>\n",
       "      <th>glasses</th>\n",
       "      <td>0.000000</td>\n",
       "      <td>0.000000</td>\n",
       "      <td>1.0</td>\n",
       "    </tr>\n",
       "    <tr>\n",
       "      <th>moustache</th>\n",
       "      <td>0.000000</td>\n",
       "      <td>0.600000</td>\n",
       "      <td>0.4</td>\n",
       "    </tr>\n",
       "  </tbody>\n",
       "</table>\n",
       "</div>"
      ],
      "text/plain": [
       "                 r1        r2   r3\n",
       "hat        0.666667  0.333333  0.0\n",
       "glasses    0.000000  0.000000  1.0\n",
       "moustache  0.000000  0.600000  0.4"
      ]
     },
     "metadata": {},
     "output_type": "display_data"
    }
   ],
   "source": [
    "    msgs = ['hat', 'glasses', 'moustache']\n",
    "    states = ['r1', 'r2', 'r3']\n",
    "    lex = pd.DataFrame([\n",
    "        [1.0, 1.0, 0.0],\n",
    "        [0.0, 0.0, 1.0],\n",
    "        [0.0, 1.0, 1.0]], index=msgs, columns=states)\n",
    "\n",
    "#     print(\"=\"*70 + \"\\nEven priors and all-0 message costs\\n\")\n",
    "    basic_mod_3 = RSA(lexicon=lex, prior=[1/3,1/3, 1/3], costs=[0.0, 0.0, 0.0])\n",
    "    print(\"\\nPragmatic listener\")\n",
    "    display(basic_mod_3.listener())"
   ]
  },
  {
   "cell_type": "code",
   "execution_count": 54,
   "metadata": {},
   "outputs": [
    {
     "name": "stdout",
     "output_type": "stream",
     "text": [
      "\n",
      "Pragmatic listener\n"
     ]
    },
    {
     "data": {
      "text/html": [
       "<div>\n",
       "<style scoped>\n",
       "    .dataframe tbody tr th:only-of-type {\n",
       "        vertical-align: middle;\n",
       "    }\n",
       "\n",
       "    .dataframe tbody tr th {\n",
       "        vertical-align: top;\n",
       "    }\n",
       "\n",
       "    .dataframe thead th {\n",
       "        text-align: right;\n",
       "    }\n",
       "</style>\n",
       "<table border=\"1\" class=\"dataframe\">\n",
       "  <thead>\n",
       "    <tr style=\"text-align: right;\">\n",
       "      <th></th>\n",
       "      <th>r1</th>\n",
       "      <th>r2</th>\n",
       "      <th>r3</th>\n",
       "    </tr>\n",
       "  </thead>\n",
       "  <tbody>\n",
       "    <tr>\n",
       "      <th>hat</th>\n",
       "      <td>0.263636</td>\n",
       "      <td>0.736364</td>\n",
       "      <td>0.000000</td>\n",
       "    </tr>\n",
       "    <tr>\n",
       "      <th>glasses</th>\n",
       "      <td>0.000000</td>\n",
       "      <td>0.000000</td>\n",
       "      <td>1.000000</td>\n",
       "    </tr>\n",
       "    <tr>\n",
       "      <th>moustache</th>\n",
       "      <td>0.000000</td>\n",
       "      <td>0.532258</td>\n",
       "      <td>0.467742</td>\n",
       "    </tr>\n",
       "  </tbody>\n",
       "</table>\n",
       "</div>"
      ],
      "text/plain": [
       "                 r1        r2        r3\n",
       "hat        0.263636  0.736364  0.000000\n",
       "glasses    0.000000  0.000000  1.000000\n",
       "moustache  0.000000  0.532258  0.467742"
      ]
     },
     "metadata": {},
     "output_type": "display_data"
    }
   ],
   "source": [
    "msgs = ['hat', 'glasses', 'moustache']\n",
    "states = ['r1', 'r2', 'r3']\n",
    "lex = pd.DataFrame([\n",
    "    [1.0, 1.0, 0.0],\n",
    "    [0.0, 0.0, 1.0],\n",
    "    [0.0, 1.0, 1.0]], index=msgs, columns=states)\n",
    "\n",
    "#     print(\"=\"*70 + \"\\nEven priors and all-0 message costs\\n\")\n",
    "basic_mod_3 = RSA(lexicon=lex, prior=[0.1, 0.45, 0.45], costs=[0.0, 0.0, 0.0])\n",
    "print(\"\\nPragmatic listener\")\n",
    "display(basic_mod_3.listener())"
   ]
  },
  {
   "cell_type": "markdown",
   "metadata": {},
   "source": [
    "При повышении исходной вероятности выбора объекта существует меньшая необходимость в формировании скалярной импликатуры (т.е. слушающий уже знает, что говорящий скорее всего имеет в виду этот объект). Если же исходная вероятность выбора объекта низкая, то слушающий скорее будет искать скалярную импликатуру, чтобы понять, что имел в виду говорящий (см. исчезновение 2 импликатуры и увеличение в разницы вероятностей импликатуры 1 (однако и первая имликатура становится менее четкой, как в случае выше)).\n"
   ]
  },
  {
   "cell_type": "code",
   "execution_count": 58,
   "metadata": {
    "scrolled": true
   },
   "outputs": [
    {
     "name": "stdout",
     "output_type": "stream",
     "text": [
      "\n",
      "Pragmatic listener\n"
     ]
    },
    {
     "data": {
      "text/html": [
       "<div>\n",
       "<style scoped>\n",
       "    .dataframe tbody tr th:only-of-type {\n",
       "        vertical-align: middle;\n",
       "    }\n",
       "\n",
       "    .dataframe tbody tr th {\n",
       "        vertical-align: top;\n",
       "    }\n",
       "\n",
       "    .dataframe thead th {\n",
       "        text-align: right;\n",
       "    }\n",
       "</style>\n",
       "<table border=\"1\" class=\"dataframe\">\n",
       "  <thead>\n",
       "    <tr style=\"text-align: right;\">\n",
       "      <th></th>\n",
       "      <th>r1</th>\n",
       "      <th>r2</th>\n",
       "      <th>r3</th>\n",
       "    </tr>\n",
       "  </thead>\n",
       "  <tbody>\n",
       "    <tr>\n",
       "      <th>hat</th>\n",
       "      <td>0.982332</td>\n",
       "      <td>0.017668</td>\n",
       "      <td>0.000000</td>\n",
       "    </tr>\n",
       "    <tr>\n",
       "      <th>glasses</th>\n",
       "      <td>0.000000</td>\n",
       "      <td>0.000000</td>\n",
       "      <td>1.000000</td>\n",
       "    </tr>\n",
       "    <tr>\n",
       "      <th>moustache</th>\n",
       "      <td>0.000000</td>\n",
       "      <td>0.746581</td>\n",
       "      <td>0.253419</td>\n",
       "    </tr>\n",
       "  </tbody>\n",
       "</table>\n",
       "</div>"
      ],
      "text/plain": [
       "                 r1        r2        r3\n",
       "hat        0.982332  0.017668  0.000000\n",
       "glasses    0.000000  0.000000  1.000000\n",
       "moustache  0.000000  0.746581  0.253419"
      ]
     },
     "metadata": {},
     "output_type": "display_data"
    }
   ],
   "source": [
    "msgs = ['hat', 'glasses', 'moustache']\n",
    "states = ['r1', 'r2', 'r3']\n",
    "lex = pd.DataFrame([\n",
    "    [1.0, 1.0, 0.0],\n",
    "    [0.0, 0.0, 1.0],\n",
    "    [0.0, 1.0, 1.0]], index=msgs, columns=states)\n",
    "\n",
    "#     print(\"=\"*70 + \"\\nEven priors and all-0 message costs\\n\")\n",
    "basic_mod_3 = RSA(lexicon=lex, prior=[1/3,1/3, 1/3], costs=[-4.0, 0.0, 0.0])\n",
    "print(\"\\nPragmatic listener\")\n",
    "display(basic_mod_3.listener())"
   ]
  },
  {
   "cell_type": "code",
   "execution_count": 60,
   "metadata": {
    "scrolled": true
   },
   "outputs": [
    {
     "name": "stdout",
     "output_type": "stream",
     "text": [
      "\n",
      "Pragmatic listener\n"
     ]
    },
    {
     "data": {
      "text/html": [
       "<div>\n",
       "<style scoped>\n",
       "    .dataframe tbody tr th:only-of-type {\n",
       "        vertical-align: middle;\n",
       "    }\n",
       "\n",
       "    .dataframe tbody tr th {\n",
       "        vertical-align: top;\n",
       "    }\n",
       "\n",
       "    .dataframe thead th {\n",
       "        text-align: right;\n",
       "    }\n",
       "</style>\n",
       "<table border=\"1\" class=\"dataframe\">\n",
       "  <thead>\n",
       "    <tr style=\"text-align: right;\">\n",
       "      <th></th>\n",
       "      <th>r1</th>\n",
       "      <th>r2</th>\n",
       "      <th>r3</th>\n",
       "    </tr>\n",
       "  </thead>\n",
       "  <tbody>\n",
       "    <tr>\n",
       "      <th>hat</th>\n",
       "      <td>0.504537</td>\n",
       "      <td>0.495463</td>\n",
       "      <td>0.000000</td>\n",
       "    </tr>\n",
       "    <tr>\n",
       "      <th>glasses</th>\n",
       "      <td>0.000000</td>\n",
       "      <td>0.000000</td>\n",
       "      <td>1.000000</td>\n",
       "    </tr>\n",
       "    <tr>\n",
       "      <th>moustache</th>\n",
       "      <td>0.000000</td>\n",
       "      <td>0.051196</td>\n",
       "      <td>0.948804</td>\n",
       "    </tr>\n",
       "  </tbody>\n",
       "</table>\n",
       "</div>"
      ],
      "text/plain": [
       "                 r1        r2        r3\n",
       "hat        0.504537  0.495463  0.000000\n",
       "glasses    0.000000  0.000000  1.000000\n",
       "moustache  0.000000  0.051196  0.948804"
      ]
     },
     "metadata": {},
     "output_type": "display_data"
    }
   ],
   "source": [
    "msgs = ['hat', 'glasses', 'moustache']\n",
    "states = ['r1', 'r2', 'r3']\n",
    "lex = pd.DataFrame([\n",
    "    [1.0, 1.0, 0.0],\n",
    "    [0.0, 0.0, 1.0],\n",
    "    [0.0, 1.0, 1.0]], index=msgs, columns=states)\n",
    "\n",
    "#     print(\"=\"*70 + \"\\nEven priors and all-0 message costs\\n\")\n",
    "basic_mod_3 = RSA(lexicon=lex, prior=[1/3,1/3, 1/3], costs=[4.0, 0.0, 0.0])\n",
    "print(\"\\nPragmatic listener\")\n",
    "display(basic_mod_3.listener())"
   ]
  },
  {
   "cell_type": "markdown",
   "metadata": {},
   "source": [
    "При понижении цены высказывания разница между вероятностями этого высказывания (относительно объектов) увеличивается --> скалярная импликатура выводится лучше. При повышениии ситуация обратная."
   ]
  },
  {
   "cell_type": "code",
   "execution_count": 57,
   "metadata": {},
   "outputs": [
    {
     "name": "stdout",
     "output_type": "stream",
     "text": [
      "\n",
      "Pragmatic listener\n"
     ]
    },
    {
     "data": {
      "text/html": [
       "<div>\n",
       "<style scoped>\n",
       "    .dataframe tbody tr th:only-of-type {\n",
       "        vertical-align: middle;\n",
       "    }\n",
       "\n",
       "    .dataframe tbody tr th {\n",
       "        vertical-align: top;\n",
       "    }\n",
       "\n",
       "    .dataframe thead th {\n",
       "        text-align: right;\n",
       "    }\n",
       "</style>\n",
       "<table border=\"1\" class=\"dataframe\">\n",
       "  <thead>\n",
       "    <tr style=\"text-align: right;\">\n",
       "      <th></th>\n",
       "      <th>r1</th>\n",
       "      <th>r2</th>\n",
       "      <th>r3</th>\n",
       "    </tr>\n",
       "  </thead>\n",
       "  <tbody>\n",
       "    <tr>\n",
       "      <th>hat</th>\n",
       "      <td>0.666667</td>\n",
       "      <td>0.333333</td>\n",
       "      <td>0.000000</td>\n",
       "    </tr>\n",
       "    <tr>\n",
       "      <th>glasses</th>\n",
       "      <td>0.000000</td>\n",
       "      <td>0.000000</td>\n",
       "      <td>1.000000</td>\n",
       "    </tr>\n",
       "    <tr>\n",
       "      <th>moustache</th>\n",
       "      <td>0.000000</td>\n",
       "      <td>0.894737</td>\n",
       "      <td>0.105263</td>\n",
       "    </tr>\n",
       "  </tbody>\n",
       "</table>\n",
       "</div>"
      ],
      "text/plain": [
       "                 r1        r2        r3\n",
       "hat        0.666667  0.333333  0.000000\n",
       "glasses    0.000000  0.000000  1.000000\n",
       "moustache  0.000000  0.894737  0.105263"
      ]
     },
     "metadata": {},
     "output_type": "display_data"
    }
   ],
   "source": [
    "msgs = ['hat', 'glasses', 'moustache']\n",
    "states = ['r1', 'r2', 'r3']\n",
    "lex = pd.DataFrame([\n",
    "    [1.0, 1.0, 0.0],\n",
    "    [0.0, 0.0, 1.0],\n",
    "    [0.0, 1.0, 1.0]], index=msgs, columns=states)\n",
    "\n",
    "#     print(\"=\"*70 + \"\\nEven priors and all-0 message costs\\n\")\n",
    "basic_mod_3 = RSA(lexicon=lex, prior=[1/3,1/3, 1/3], costs=[0.0, 0.0, 0.0], alpha=4)\n",
    "print(\"\\nPragmatic listener\")\n",
    "display(basic_mod_3.listener())"
   ]
  },
  {
   "cell_type": "markdown",
   "metadata": {},
   "source": [
    "При увеличении альфа, одна из скалярных импликатур стала выводиться лучше. Вероятно, это происходит, так как говорящий рассчитывает, что слушающий вычислит импликатуру и выбирает то высказывание, опирающееся на импликатуры"
   ]
  },
  {
   "cell_type": "code",
   "execution_count": null,
   "metadata": {},
   "outputs": [],
   "source": []
  }
 ],
 "metadata": {
  "colab": {
   "name": "hw5_prompt",
   "provenance": []
  },
  "kernelspec": {
   "display_name": "Python 3 (ipykernel)",
   "language": "python",
   "name": "python3"
  },
  "language_info": {
   "codemirror_mode": {
    "name": "ipython",
    "version": 3
   },
   "file_extension": ".py",
   "mimetype": "text/x-python",
   "name": "python",
   "nbconvert_exporter": "python",
   "pygments_lexer": "ipython3",
   "version": "3.10.9"
  }
 },
 "nbformat": 4,
 "nbformat_minor": 1
}
